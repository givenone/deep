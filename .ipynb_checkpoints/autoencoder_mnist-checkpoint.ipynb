{
 "cells": [
  {
   "cell_type": "code",
   "execution_count": 1,
   "metadata": {},
   "outputs": [
    {
     "name": "stderr",
     "output_type": "stream",
     "text": [
      "/home/givenone/morpheus/venv/lib/python3.6/site-packages/tensorflow/python/framework/dtypes.py:516: FutureWarning: Passing (type, 1) or '1type' as a synonym of type is deprecated; in a future version of numpy, it will be understood as (type, (1,)) / '(1,)type'.\n",
      "  _np_qint8 = np.dtype([(\"qint8\", np.int8, 1)])\n",
      "/home/givenone/morpheus/venv/lib/python3.6/site-packages/tensorflow/python/framework/dtypes.py:517: FutureWarning: Passing (type, 1) or '1type' as a synonym of type is deprecated; in a future version of numpy, it will be understood as (type, (1,)) / '(1,)type'.\n",
      "  _np_quint8 = np.dtype([(\"quint8\", np.uint8, 1)])\n",
      "/home/givenone/morpheus/venv/lib/python3.6/site-packages/tensorflow/python/framework/dtypes.py:518: FutureWarning: Passing (type, 1) or '1type' as a synonym of type is deprecated; in a future version of numpy, it will be understood as (type, (1,)) / '(1,)type'.\n",
      "  _np_qint16 = np.dtype([(\"qint16\", np.int16, 1)])\n",
      "/home/givenone/morpheus/venv/lib/python3.6/site-packages/tensorflow/python/framework/dtypes.py:519: FutureWarning: Passing (type, 1) or '1type' as a synonym of type is deprecated; in a future version of numpy, it will be understood as (type, (1,)) / '(1,)type'.\n",
      "  _np_quint16 = np.dtype([(\"quint16\", np.uint16, 1)])\n",
      "/home/givenone/morpheus/venv/lib/python3.6/site-packages/tensorflow/python/framework/dtypes.py:520: FutureWarning: Passing (type, 1) or '1type' as a synonym of type is deprecated; in a future version of numpy, it will be understood as (type, (1,)) / '(1,)type'.\n",
      "  _np_qint32 = np.dtype([(\"qint32\", np.int32, 1)])\n",
      "/home/givenone/morpheus/venv/lib/python3.6/site-packages/tensorflow/python/framework/dtypes.py:525: FutureWarning: Passing (type, 1) or '1type' as a synonym of type is deprecated; in a future version of numpy, it will be understood as (type, (1,)) / '(1,)type'.\n",
      "  np_resource = np.dtype([(\"resource\", np.ubyte, 1)])\n"
     ]
    },
    {
     "name": "stdout",
     "output_type": "stream",
     "text": [
      "WARNING:tensorflow:From <ipython-input-1-d1b67dc7ee0f>:7: read_data_sets (from tensorflow.contrib.learn.python.learn.datasets.mnist) is deprecated and will be removed in a future version.\n",
      "Instructions for updating:\n",
      "Please use alternatives such as official/mnist/dataset.py from tensorflow/models.\n",
      "WARNING:tensorflow:From /home/givenone/morpheus/venv/lib/python3.6/site-packages/tensorflow/contrib/learn/python/learn/datasets/mnist.py:260: maybe_download (from tensorflow.contrib.learn.python.learn.datasets.base) is deprecated and will be removed in a future version.\n",
      "Instructions for updating:\n",
      "Please write your own downloading logic.\n",
      "WARNING:tensorflow:From /home/givenone/morpheus/venv/lib/python3.6/site-packages/tensorflow/contrib/learn/python/learn/datasets/base.py:252: _internal_retry.<locals>.wrap.<locals>.wrapped_fn (from tensorflow.contrib.learn.python.learn.datasets.base) is deprecated and will be removed in a future version.\n",
      "Instructions for updating:\n",
      "Please use urllib or similar directly.\n",
      "Successfully downloaded train-images-idx3-ubyte.gz 9912422 bytes.\n",
      "WARNING:tensorflow:From /home/givenone/morpheus/venv/lib/python3.6/site-packages/tensorflow/contrib/learn/python/learn/datasets/mnist.py:262: extract_images (from tensorflow.contrib.learn.python.learn.datasets.mnist) is deprecated and will be removed in a future version.\n",
      "Instructions for updating:\n",
      "Please use tf.data to implement this functionality.\n",
      "Extracting /tmp/data/train-images-idx3-ubyte.gz\n",
      "Successfully downloaded train-labels-idx1-ubyte.gz 28881 bytes.\n",
      "WARNING:tensorflow:From /home/givenone/morpheus/venv/lib/python3.6/site-packages/tensorflow/contrib/learn/python/learn/datasets/mnist.py:267: extract_labels (from tensorflow.contrib.learn.python.learn.datasets.mnist) is deprecated and will be removed in a future version.\n",
      "Instructions for updating:\n",
      "Please use tf.data to implement this functionality.\n",
      "Extracting /tmp/data/train-labels-idx1-ubyte.gz\n",
      "WARNING:tensorflow:From /home/givenone/morpheus/venv/lib/python3.6/site-packages/tensorflow/contrib/learn/python/learn/datasets/mnist.py:110: dense_to_one_hot (from tensorflow.contrib.learn.python.learn.datasets.mnist) is deprecated and will be removed in a future version.\n",
      "Instructions for updating:\n",
      "Please use tf.one_hot on tensors.\n",
      "Successfully downloaded t10k-images-idx3-ubyte.gz 1648877 bytes.\n",
      "Extracting /tmp/data/t10k-images-idx3-ubyte.gz\n",
      "Successfully downloaded t10k-labels-idx1-ubyte.gz 4542 bytes.\n",
      "Extracting /tmp/data/t10k-labels-idx1-ubyte.gz\n",
      "WARNING:tensorflow:From /home/givenone/morpheus/venv/lib/python3.6/site-packages/tensorflow/contrib/learn/python/learn/datasets/mnist.py:290: DataSet.__init__ (from tensorflow.contrib.learn.python.learn.datasets.mnist) is deprecated and will be removed in a future version.\n",
      "Instructions for updating:\n",
      "Please use alternatives such as official/mnist/dataset.py from tensorflow/models.\n"
     ]
    }
   ],
   "source": [
    "import tensorflow as tf\n",
    "import numpy as np\n",
    "import matplotlib.pyplot as plt\n",
    "\n",
    "# MNIST 데이터를 다운로드 합니다.\n",
    "from tensorflow.examples.tutorials.mnist import input_data\n",
    "mnist = input_data.read_data_sets(\"/tmp/data/\", one_hot=True)"
   ]
  },
  {
   "cell_type": "code",
   "execution_count": 2,
   "metadata": {},
   "outputs": [],
   "source": [
    "learning_rate_RMSProp = 0.02\n",
    "learning_rate_GradientDescent = 0.5\n",
    "num_epochs = 100         # 반복횟수\n",
    "batch_size = 256          \n",
    "display_step = 1         # 몇 Step마다 log를 출력할지 결정합니다.\n",
    "input_size = 784         # MNIST 데이터 input (이미지 크기: 28*28)\n",
    "hidden1_size = 128       # 첫번째 히든레이어의 노드 개수 \n",
    "hidden2_size = 64        # 두번째 히든레이어의 노드 개수 "
   ]
  },
  {
   "cell_type": "code",
   "execution_count": 3,
   "metadata": {},
   "outputs": [
    {
     "ename": "AttributeError",
     "evalue": "module 'tensorflow' has no attribute 'placeholder'",
     "output_type": "error",
     "traceback": [
      "\u001b[0;31m---------------------------------------------------------------------------\u001b[0m",
      "\u001b[0;31mAttributeError\u001b[0m                            Traceback (most recent call last)",
      "\u001b[0;32m<ipython-input-3-646c83931caa>\u001b[0m in \u001b[0;36m<module>\u001b[0;34m\u001b[0m\n\u001b[0;32m----> 1\u001b[0;31m \u001b[0mx\u001b[0m \u001b[0;34m=\u001b[0m \u001b[0mtf\u001b[0m\u001b[0;34m.\u001b[0m\u001b[0mplaceholder\u001b[0m\u001b[0;34m(\u001b[0m\u001b[0mtf\u001b[0m\u001b[0;34m.\u001b[0m\u001b[0mfloat32\u001b[0m\u001b[0;34m,\u001b[0m \u001b[0mshape\u001b[0m\u001b[0;34m=\u001b[0m\u001b[0;34m[\u001b[0m\u001b[0;32mNone\u001b[0m\u001b[0;34m,\u001b[0m \u001b[0minput_size\u001b[0m\u001b[0;34m]\u001b[0m\u001b[0;34m)\u001b[0m   \u001b[0;31m# 인풋을 위한 플레이스홀더를 정의합니다.\u001b[0m\u001b[0;34m\u001b[0m\u001b[0;34m\u001b[0m\u001b[0m\n\u001b[0m\u001b[1;32m      2\u001b[0m \u001b[0my\u001b[0m \u001b[0;34m=\u001b[0m \u001b[0mtf\u001b[0m\u001b[0;34m.\u001b[0m\u001b[0mplaceholder\u001b[0m\u001b[0;34m(\u001b[0m\u001b[0mtf\u001b[0m\u001b[0;34m.\u001b[0m\u001b[0mfloat32\u001b[0m\u001b[0;34m,\u001b[0m \u001b[0mshape\u001b[0m\u001b[0;34m=\u001b[0m\u001b[0;34m[\u001b[0m\u001b[0;32mNone\u001b[0m\u001b[0;34m,\u001b[0m \u001b[0;36m10\u001b[0m\u001b[0;34m]\u001b[0m\u001b[0;34m)\u001b[0m           \u001b[0;31m# True MNIST 숫자값\u001b[0m\u001b[0;34m\u001b[0m\u001b[0;34m\u001b[0m\u001b[0m\n",
      "\u001b[0;31mAttributeError\u001b[0m: module 'tensorflow' has no attribute 'placeholder'"
     ]
    }
   ],
   "source": [
    "x = tf.placeholder(tf.float32, shape=[None, input_size])   # 인풋을 위한 플레이스홀더를 정의합니다.\n",
    "y = tf.placeholder(tf.float32, shape=[None, 10])           # True MNIST 숫자값\n"
   ]
  },
  {
   "cell_type": "code",
   "execution_count": 7,
   "metadata": {},
   "outputs": [
    {
     "ename": "AttributeError",
     "evalue": "module 'tensorflow' has no attribute '__version__'",
     "output_type": "error",
     "traceback": [
      "\u001b[0;31m---------------------------------------------------------------------------\u001b[0m",
      "\u001b[0;31mAttributeError\u001b[0m                            Traceback (most recent call last)",
      "\u001b[0;32m<ipython-input-7-4ae80da9abf6>\u001b[0m in \u001b[0;36m<module>\u001b[0;34m\u001b[0m\n\u001b[1;32m      1\u001b[0m \u001b[0;32mimport\u001b[0m \u001b[0mtensorflow\u001b[0m \u001b[0;32mas\u001b[0m \u001b[0mtf\u001b[0m\u001b[0;34m\u001b[0m\u001b[0;34m\u001b[0m\u001b[0m\n\u001b[0;32m----> 2\u001b[0;31m \u001b[0mtf\u001b[0m\u001b[0;34m.\u001b[0m\u001b[0m__version__\u001b[0m\u001b[0;34m\u001b[0m\u001b[0;34m\u001b[0m\u001b[0m\n\u001b[0m",
      "\u001b[0;31mAttributeError\u001b[0m: module 'tensorflow' has no attribute '__version__'"
     ]
    }
   ],
   "source": [
    "import tensorflow as tf\n",
    "tf.__version__"
   ]
  },
  {
   "cell_type": "code",
   "execution_count": 2,
   "metadata": {
    "scrolled": true
   },
   "outputs": [],
   "source": [
    "import tensorflow as tf\n",
    "import numpy as np\n",
    "import matplotlib.pyplot as plt\n",
    "\n",
    "# MNIST 데이터를 다운로드 합니다.\n",
    "(x_train, y_train), (x_test, y_test) = tf.keras.datasets.mnist.load_data()\n",
    "# 이미지들을 float32 데이터 타입으로 변경합니다.\n",
    "x_train, x_test = x_train.astype('float32'), x_test.astype('float32')\n",
    "# 28*28 형태의 이미지를 784차원으로 flattening 합니다.\n",
    "x_train, x_test = x_train.reshape([-1, 784]), x_test.reshape([-1, 784]) #-1 이 None과 같음.\n",
    "# [0, 255] 사이의 값을 [0, 1]사이의 값으로 Normalize합니다.\n",
    "x_train, x_test = x_train / 255., x_test / 255.\n"
   ]
  },
  {
   "cell_type": "code",
   "execution_count": 3,
   "metadata": {},
   "outputs": [],
   "source": [
    "learning_rate = 0.02\n",
    "training_epochs = 50    # 반복횟수\n",
    "batch_size = 256        # 배치개수\n",
    "display_step = 1        # 손실함수 출력 주기\n",
    "examples_to_show = 10   # 보여줄 MNIST Reconstruction 이미지 개수\n",
    "input_size = 784        # 28*28\n",
    "hidden1_size = 256 \n",
    "hidden2_size = 128"
   ]
  },
  {
   "cell_type": "code",
   "execution_count": 4,
   "metadata": {},
   "outputs": [],
   "source": [
    "# tf.data API를 이용해서 데이터를 섞고 batch 형태로 가져옵니다.\n",
    "train_data = tf.data.Dataset.from_tensor_slices(x_train)\n",
    "train_data = train_data.shuffle(60000).batch(batch_size)\n"
   ]
  },
  {
   "cell_type": "code",
   "execution_count": 5,
   "metadata": {},
   "outputs": [
    {
     "data": {
      "text/plain": [
       "<BatchDataset shapes: (None, 784), types: tf.float32>"
      ]
     },
     "execution_count": 5,
     "metadata": {},
     "output_type": "execute_result"
    }
   ],
   "source": [
    "train_data"
   ]
  },
  {
   "cell_type": "code",
   "execution_count": 21,
   "metadata": {},
   "outputs": [],
   "source": [
    "class AutoEncoder(object):\n",
    "  # Autoencoder 모델을 위한 tf.Variable들을 정의합니다.\n",
    "  def __init__(self):\n",
    "    # 인코딩(Encoding) - 784 -> 256 -> 128\n",
    "    self.W1 = tf.Variable(tf.random.normal(shape=[input_size, hidden1_size]))\n",
    "    self.b1 = tf.Variable(tf.random.normal(shape=[hidden1_size]))\n",
    "    self.W2 = tf.Variable(tf.random.normal(shape=[hidden1_size, hidden2_size]))\n",
    "    self.b2 = tf.Variable(tf.random.normal(shape=[hidden2_size]))\n",
    "    # 디코딩(Decoding) 128 -> 256 -> 784\n",
    "    self.W3 = tf.Variable(tf.random.normal(shape=[hidden2_size, hidden1_size]))\n",
    "    self.b3 = tf.Variable(tf.random.normal(shape=[hidden1_size]))\n",
    "    self.W4 = tf.Variable(tf.random.normal(shape=[hidden1_size, input_size]))\n",
    "    self.b4 = tf.Variable(tf.random.normal(shape=[input_size]))\n",
    "\n",
    "  def __call__(self, x):\n",
    "    H1_output = tf.nn.sigmoid(tf.matmul(x, self.W1) + self.b1)\n",
    "    H2_output = tf.nn.sigmoid(tf.matmul(H1_output, self.W2) + self.b2)\n",
    "    H3_output = tf.nn.sigmoid(tf.matmul(H2_output, self.W3) + self.b3)\n",
    "    reconstructed_x = tf.nn.sigmoid(tf.matmul(H3_output, self.W4) + self.b4)\n",
    "\n",
    "    return reconstructed_x"
   ]
  },
  {
   "cell_type": "code",
   "execution_count": null,
   "metadata": {},
   "outputs": [],
   "source": []
  },
  {
   "cell_type": "code",
   "execution_count": null,
   "metadata": {},
   "outputs": [],
   "source": []
  },
  {
   "cell_type": "code",
   "execution_count": 7,
   "metadata": {},
   "outputs": [],
   "source": []
  },
  {
   "cell_type": "code",
   "execution_count": 22,
   "metadata": {},
   "outputs": [],
   "source": [
    "@tf.function\n",
    "def mse_loss(y_pred, y_true):\n",
    "  return tf.reduce_mean(tf.pow(y_true - y_pred, 2)) # MSE(Mean of Squared Error) 손실함수\n",
    "\n",
    "# 최적화를 위한 RMSProp 옵티마이저를 정의합니다.\n",
    "optimizer = tf.optimizers.RMSprop(learning_rate)\n",
    "\n",
    "# 최적화를 위한 function을 정의합니다.\n",
    "@tf.function\n",
    "def train_step(model, x):\n",
    "  # 타겟데이터는 인풋데이터와 같습니다.\n",
    "  y_true = x\n",
    "  with tf.GradientTape() as tape:\n",
    "    y_pred = model(x)\n",
    "    loss = mse_loss(y_pred, y_true)\n",
    "  gradients = tape.gradient(loss, vars(model).values())\n",
    "  optimizer.apply_gradients(zip(gradients, vars(model).values()))"
   ]
  },
  {
   "cell_type": "code",
   "execution_count": 23,
   "metadata": {},
   "outputs": [
    {
     "name": "stdout",
     "output_type": "stream",
     "text": [
      "<__main__.AutoEncoder object at 0x7f6f2450def0>\n"
     ]
    }
   ],
   "source": [
    "# Autoencoder 모델을 선언합니다.\n",
    "AutoEncoder_model = AutoEncoder()\n",
    "print(AutoEncoder_model)"
   ]
  },
  {
   "cell_type": "code",
   "execution_count": 24,
   "metadata": {},
   "outputs": [
    {
     "name": "stdout",
     "output_type": "stream",
     "text": [
      "반복(Epoch): 1, 손실 함수(Loss): 0.062491\n",
      "반복(Epoch): 2, 손실 함수(Loss): 0.051753\n",
      "반복(Epoch): 3, 손실 함수(Loss): 0.049540\n",
      "반복(Epoch): 4, 손실 함수(Loss): 0.040989\n",
      "반복(Epoch): 5, 손실 함수(Loss): 0.036644\n",
      "반복(Epoch): 6, 손실 함수(Loss): 0.037334\n",
      "반복(Epoch): 7, 손실 함수(Loss): 0.036369\n",
      "반복(Epoch): 8, 손실 함수(Loss): 0.036626\n",
      "반복(Epoch): 9, 손실 함수(Loss): 0.035895\n",
      "반복(Epoch): 10, 손실 함수(Loss): 0.032516\n",
      "반복(Epoch): 11, 손실 함수(Loss): 0.034403\n",
      "반복(Epoch): 12, 손실 함수(Loss): 0.031236\n",
      "반복(Epoch): 13, 손실 함수(Loss): 0.032125\n",
      "반복(Epoch): 14, 손실 함수(Loss): 0.031651\n",
      "반복(Epoch): 15, 손실 함수(Loss): 0.033587\n",
      "반복(Epoch): 16, 손실 함수(Loss): 0.029577\n",
      "반복(Epoch): 17, 손실 함수(Loss): 0.029367\n",
      "반복(Epoch): 18, 손실 함수(Loss): 0.032236\n",
      "반복(Epoch): 19, 손실 함수(Loss): 0.029614\n",
      "반복(Epoch): 20, 손실 함수(Loss): 0.030271\n",
      "반복(Epoch): 21, 손실 함수(Loss): 0.031797\n",
      "반복(Epoch): 22, 손실 함수(Loss): 0.031008\n",
      "반복(Epoch): 23, 손실 함수(Loss): 0.032260\n",
      "반복(Epoch): 24, 손실 함수(Loss): 0.030107\n",
      "반복(Epoch): 25, 손실 함수(Loss): 0.028411\n",
      "반복(Epoch): 26, 손실 함수(Loss): 0.028466\n",
      "반복(Epoch): 27, 손실 함수(Loss): 0.029251\n",
      "반복(Epoch): 28, 손실 함수(Loss): 0.026050\n",
      "반복(Epoch): 29, 손실 함수(Loss): 0.029075\n",
      "반복(Epoch): 30, 손실 함수(Loss): 0.026495\n",
      "반복(Epoch): 31, 손실 함수(Loss): 0.030466\n",
      "반복(Epoch): 32, 손실 함수(Loss): 0.030998\n",
      "반복(Epoch): 33, 손실 함수(Loss): 0.027773\n",
      "반복(Epoch): 34, 손실 함수(Loss): 0.029966\n",
      "반복(Epoch): 35, 손실 함수(Loss): 0.025442\n",
      "반복(Epoch): 36, 손실 함수(Loss): 0.028232\n",
      "반복(Epoch): 37, 손실 함수(Loss): 0.023852\n",
      "반복(Epoch): 38, 손실 함수(Loss): 0.025611\n",
      "반복(Epoch): 39, 손실 함수(Loss): 0.024930\n",
      "반복(Epoch): 40, 손실 함수(Loss): 0.025607\n",
      "반복(Epoch): 41, 손실 함수(Loss): 0.021513\n",
      "반복(Epoch): 42, 손실 함수(Loss): 0.023386\n",
      "반복(Epoch): 43, 손실 함수(Loss): 0.025750\n",
      "반복(Epoch): 44, 손실 함수(Loss): 0.025601\n",
      "반복(Epoch): 45, 손실 함수(Loss): 0.023678\n",
      "반복(Epoch): 46, 손실 함수(Loss): 0.024495\n",
      "반복(Epoch): 47, 손실 함수(Loss): 0.024856\n",
      "반복(Epoch): 48, 손실 함수(Loss): 0.028331\n",
      "반복(Epoch): 49, 손실 함수(Loss): 0.022253\n",
      "반복(Epoch): 50, 손실 함수(Loss): 0.025419\n"
     ]
    }
   ],
   "source": [
    "# 지정된 횟수만큼 최적화를 수행합니다.\n",
    "for epoch in range(training_epochs):\n",
    "  # 모든 배치들에 대해서 최적화를 수행합니다.\n",
    "  # Autoencoder는 Unsupervised Learning이므로 타겟 레이블(label) y가 필요하지 않습니다.\n",
    "  for batch_x in train_data:\n",
    "    # 옵티마이저를 실행해서 파라마터들을 업데이트합니다.\n",
    "    _, current_loss = train_step(AutoEncoder_model, batch_x), mse_loss(AutoEncoder_model(batch_x), batch_x)\n",
    "  # 지정된 epoch마다 학습결과를 출력합니다.\n",
    "  if epoch % display_step == 0:\n",
    "    print(\"반복(Epoch): %d, 손실 함수(Loss): %f\" % ((epoch+1), current_loss))"
   ]
  },
  {
   "cell_type": "code",
   "execution_count": 25,
   "metadata": {},
   "outputs": [],
   "source": [
    "# 테스트 데이터로 Reconstruction을 수행합니다.\n",
    "reconstructed_result = AutoEncoder_model(x_test[:examples_to_show])\n"
   ]
  },
  {
   "cell_type": "code",
   "execution_count": 28,
   "metadata": {},
   "outputs": [
    {
     "data": {
      "image/png": "[encoded data removed]",
      "text/plain": [
       "<Figure size 720x144 with 20 Axes>"
      ]
     },
     "metadata": {
      "needs_background": "light"
     },
     "output_type": "display_data"
    }
   ],
   "source": [
    "f, a = plt.subplots(2, 10, figsize=(10, 2))"
   ]
  },
  {
   "cell_type": "code",
   "execution_count": null,
   "metadata": {},
   "outputs": [],
   "source": []
  },
  {
   "cell_type": "code",
   "execution_count": 30,
   "metadata": {},
   "outputs": [
    {
     "name": "stderr",
     "output_type": "stream",
     "text": [
      "/home/givenone/morpheus/venv/lib/python3.6/site-packages/ipykernel_launcher.py:8: UserWarning: Matplotlib is currently using module://ipykernel.pylab.backend_inline, which is a non-GUI backend, so cannot show the figure.\n",
      "  \n"
     ]
    },
    {
     "data": {
      "image/png": "[encoded data removed]",
      "text/plain": [
       "<Figure size 720x144 with 20 Axes>"
      ]
     },
     "metadata": {
      "needs_background": "light"
     },
     "output_type": "display_data"
    }
   ],
   "source": [
    "reconstructed_result = AutoEncoder_model(x_test[:examples_to_show])\n",
    "# 원본 MNIST 데이터와 Reconstruction 결과를 비교합니다.\n",
    "f, a = plt.subplots(2, 10, figsize=(10, 2))\n",
    "for i in range(examples_to_show):\n",
    "  a[0][i].imshow(np.reshape(x_test[i], (28, 28)))\n",
    "  a[1][i].imshow(np.reshape(reconstructed_result[i], (28, 28)))\n",
    "#f.savefig('reconstructed_mnist_image.png')  # reconstruction 결과를 png로 저장합니다.\n",
    "f.show()\n",
    "plt.draw()\n"
   ]
  },
  {
   "cell_type": "code",
   "execution_count": 27,
   "metadata": {},
   "outputs": [],
   "source": [
    "%matplotlib inline"
   ]
  },
  {
   "cell_type": "code",
   "execution_count": 35,
   "metadata": {},
   "outputs": [],
   "source": [
    "import tensorflow as tf\n",
    "\n",
    "# MNIST 데이터를 다운로드 합니다.\n",
    "(x_train, y_train), (x_test, y_test) = tf.keras.datasets.mnist.load_data()\n",
    "# 이미지들을 float32 데이터 타입으로 변경합니다.\n",
    "x_train, x_test = x_train.astype('float32'), x_test.astype('float32')\n",
    "# 28*28 형태의 이미지를 784차원으로 flattening 합니다.\n",
    "x_train, x_test = x_train.reshape([-1, 784]), x_test.reshape([-1, 784])\n",
    "# [0, 255] 사이의 값을 [0, 1]사이의 값으로 Normalize합니다.\n",
    "x_train, x_test = x_train / 255., x_test / 255.\n",
    "\n",
    "# 학습에 필요한 설정값들을 정의합니다.\n",
    "learning_rate_RMSProp = 0.02\n",
    "learning_rate_GradientDescent = 0.5\n",
    "num_epochs = 100         # 반복횟수\n",
    "batch_size = 256\n",
    "display_step = 1         # 몇 Step마다 log를 출력할지 결정합니다.\n",
    "input_size = 784         # MNIST 데이터 input (이미지 크기: 28*28)\n",
    "hidden1_size = 128       # 첫번째 히든레이어의 노드 개수 \n",
    "hidden2_size = 64        # 두번째 히든레이어의 노드 개수 \n",
    "\n",
    "# tf.data API를 이용해서 데이터를 섞고 batch 형태로 가져옵니다.\n",
    "train_data = tf.data.Dataset.from_tensor_slices((x_train, y_train))\n",
    "train_data = train_data.shuffle(60000).batch(batch_size)"
   ]
  },
  {
   "cell_type": "code",
   "execution_count": 36,
   "metadata": {},
   "outputs": [],
   "source": [
    "def random_normal_intializer_with_stddev_1():\n",
    "  return tf.keras.initializers.RandomNormal(mean=0.0, stddev=1.0, seed=None)"
   ]
  },
  {
   "cell_type": "code",
   "execution_count": 37,
   "metadata": {},
   "outputs": [],
   "source": [
    "class AutoEncoder(tf.keras.Model):\n",
    "  def __init__(self):\n",
    "    super(AutoEncoder, self).__init__()\n",
    "    # 인코딩(Encoding) - 784 -> 128 -> 64\n",
    "    self.hidden_layer_1 = tf.keras.layers.Dense(hidden1_size,\n",
    "                                                activation='sigmoid',\n",
    "                                                kernel_initializer=random_normal_intializer_with_stddev_1(),\n",
    "                                                bias_initializer=random_normal_intializer_with_stddev_1())\n",
    "    self.hidden_layer_2 = tf.keras.layers.Dense(hidden2_size,\n",
    "                                                activation='sigmoid',\n",
    "                                                kernel_initializer=random_normal_intializer_with_stddev_1(),\n",
    "                                                bias_initializer=random_normal_intializer_with_stddev_1())\n",
    "    # 디코딩(Decoding) 64 -> 128 -> 784\n",
    "    self.hidden_layer_3 = tf.keras.layers.Dense(hidden1_size,\n",
    "                                                activation='sigmoid',\n",
    "                                                kernel_initializer=random_normal_intializer_with_stddev_1(),\n",
    "                                                bias_initializer=random_normal_intializer_with_stddev_1())\n",
    "    self.output_layer = tf.keras.layers.Dense(input_size,\n",
    "                                                activation='sigmoid',\n",
    "                                                kernel_initializer=random_normal_intializer_with_stddev_1(),\n",
    "                                                bias_initializer=random_normal_intializer_with_stddev_1())\n"
   ]
  },
  {
   "cell_type": "code",
   "execution_count": 38,
   "metadata": {},
   "outputs": [],
   "source": [
    "class AutoEncoder(tf.keras.Model):\n",
    "  def __init__(self):\n",
    "    super(AutoEncoder, self).__init__()\n",
    "    # 인코딩(Encoding) - 784 -> 128 -> 64\n",
    "    self.hidden_layer_1 = tf.keras.layers.Dense(hidden1_size,\n",
    "                                                activation='sigmoid',\n",
    "                                                kernel_initializer=random_normal_intializer_with_stddev_1(),\n",
    "                                                bias_initializer=random_normal_intializer_with_stddev_1())\n",
    "    self.hidden_layer_2 = tf.keras.layers.Dense(hidden2_size,\n",
    "                                                activation='sigmoid',\n",
    "                                                kernel_initializer=random_normal_intializer_with_stddev_1(),\n",
    "                                                bias_initializer=random_normal_intializer_with_stddev_1())\n",
    "    # 디코딩(Decoding) 64 -> 128 -> 784\n",
    "    self.hidden_layer_3 = tf.keras.layers.Dense(hidden1_size,\n",
    "                                                activation='sigmoid',\n",
    "                                                kernel_initializer=random_normal_intializer_with_stddev_1(),\n",
    "                                                bias_initializer=random_normal_intializer_with_stddev_1())\n",
    "    self.output_layer = tf.keras.layers.Dense(input_size,\n",
    "                                                activation='sigmoid',\n",
    "                                                kernel_initializer=random_normal_intializer_with_stddev_1(),\n",
    "                                                bias_initializer=random_normal_intializer_with_stddev_1())\n",
    "\n",
    "  def call(self, x):\n",
    "    H1_output = self.hidden_layer_1(x)\n",
    "    H2_output = self.hidden_layer_2(H1_output)\n",
    "    H3_output = self.hidden_layer_3(H2_output)\n",
    "    X_reconstructed = self.output_layer(H3_output)\n",
    "\n",
    "    return X_reconstructed, H2_output\n"
   ]
  },
  {
   "cell_type": "code",
   "execution_count": 39,
   "metadata": {},
   "outputs": [],
   "source": [
    "# tf.keras.Model을 이용해서 Softmax 분류기를 정의합니다.\n",
    "class SoftmaxClassifier(tf.keras.Model):\n",
    "  def __init__(self):\n",
    "    super(SoftmaxClassifier, self).__init__()\n",
    "    # 원본 MNIST 이미지(784) 대신 오토인코더의 압축된 특징(64)을 입력값으로 받습니다.\n",
    "    self.softmax_layer = tf.keras.layers.Dense(10,\n",
    "                                               activation='softmax',\n",
    "                                               kernel_initializer='zeros',\n",
    "                                               bias_initializer='zeros')\n",
    "\n",
    "  def call(self, x):\n",
    "    y_pred = self.softmax_layer(x)\n",
    "\n",
    "    return y_pred"
   ]
  },
  {
   "cell_type": "code",
   "execution_count": 40,
   "metadata": {},
   "outputs": [],
   "source": [
    "@tf.function\n",
    "def pretraining_mse_loss(y_pred, y_true):\n",
    "  return tf.reduce_mean(tf.pow(y_true - y_pred, 2)) # MSE(Mean of Squared Error) 손실함수\n",
    "\n",
    "@tf.function\n",
    "def finetuning_cross_entropy_loss(y_pred_softmax, y):\n",
    "  return tf.reduce_mean(-tf.reduce_sum(y * tf.math.log(y_pred_softmax), axis=[1]))     # cross-entropy loss 함수\n"
   ]
  },
  {
   "cell_type": "code",
   "execution_count": 41,
   "metadata": {},
   "outputs": [],
   "source": [
    "#Pre- Training\n",
    "pretraining_optimizer = tf.optimizers.RMSprop(learning_rate_RMSProp, epsilon=1e-10)\n",
    "@tf.function\n",
    "def pretraining_train_step(autoencoder_model, x):\n",
    "  # 타겟데이터는 인풋데이터와 같습니다.\n",
    "  y_true = x\n",
    "  with tf.GradientTape() as tape:\n",
    "    y_pred, _ = autoencoder_model(x)\n",
    "    pretraining_loss = pretraining_mse_loss(y_pred, y_true)\n",
    "  gradients = tape.gradient(pretraining_loss, autoencoder_model.trainable_variables)\n",
    "  pretraining_optimizer.apply_gradients(zip(gradients, autoencoder_model.trainable_variables))"
   ]
  },
  {
   "cell_type": "code",
   "execution_count": 43,
   "metadata": {},
   "outputs": [],
   "source": [
    "finetuning_optimizer = tf.optimizers.SGD(learning_rate_GradientDescent)\n",
    "@tf.function\n",
    "def finetuning_train_step(autoencoder_model, softmax_classifier_model, x, y):\n",
    "  with tf.GradientTape() as tape:\n",
    "    y_pred, extracted_features = autoencoder_model(x)\n",
    "    y_pred_softmax = softmax_classifier_model(extracted_features)\n",
    "    finetuning_loss = finetuning_cross_entropy_loss(y_pred_softmax, y)\n",
    "  autoencoder_encoding_variables = autoencoder_model.hidden_layer_1.trainable_variables + autoencoder_model.hidden_layer_2.trainable_variables\n",
    "  gradients = tape.gradient(finetuning_loss, autoencoder_encoding_variables + softmax_classifier_model.trainable_variables)\n",
    "  finetuning_optimizer.apply_gradients(zip(gradients, autoencoder_encoding_variables + softmax_classifier_model.trainable_variables))"
   ]
  },
  {
   "cell_type": "code",
   "execution_count": 45,
   "metadata": {},
   "outputs": [],
   "source": [
    "@tf.function\n",
    "def compute_accuracy(y_pred_softmax, y):\n",
    "  correct_prediction = tf.equal(tf.argmax(y_pred_softmax,1), tf.argmax(y,1))\n",
    "  accuracy = tf.reduce_mean(tf.cast(correct_prediction, tf.float32))\n",
    "\n",
    "  return accuracy\n"
   ]
  },
  {
   "cell_type": "code",
   "execution_count": 46,
   "metadata": {},
   "outputs": [],
   "source": [
    "# Autoencoder 모델을 선언합니다.\n",
    "AutoEncoder_model = AutoEncoder()\n",
    "# Softmax 분류기 모델을 선언합니다. (입력으로 Autoencoder의 압축된 특징을 넣습니다.)\n",
    "SoftmaxClassifier_model = SoftmaxClassifier()"
   ]
  },
  {
   "cell_type": "code",
   "execution_count": 47,
   "metadata": {},
   "outputs": [
    {
     "name": "stdout",
     "output_type": "stream",
     "text": [
      "반복(Epoch): 1, Pre-Training 손실 함수(pretraining_loss): 0.054252\n",
      "반복(Epoch): 2, Pre-Training 손실 함수(pretraining_loss): 0.039407\n",
      "반복(Epoch): 3, Pre-Training 손실 함수(pretraining_loss): 0.034838\n",
      "반복(Epoch): 4, Pre-Training 손실 함수(pretraining_loss): 0.031940\n",
      "반복(Epoch): 5, Pre-Training 손실 함수(pretraining_loss): 0.031021\n",
      "반복(Epoch): 6, Pre-Training 손실 함수(pretraining_loss): 0.036528\n",
      "반복(Epoch): 7, Pre-Training 손실 함수(pretraining_loss): 0.028920\n",
      "반복(Epoch): 8, Pre-Training 손실 함수(pretraining_loss): 0.031571\n",
      "반복(Epoch): 9, Pre-Training 손실 함수(pretraining_loss): 0.027775\n",
      "반복(Epoch): 10, Pre-Training 손실 함수(pretraining_loss): 0.023759\n",
      "반복(Epoch): 11, Pre-Training 손실 함수(pretraining_loss): 0.028270\n",
      "반복(Epoch): 12, Pre-Training 손실 함수(pretraining_loss): 0.026073\n",
      "반복(Epoch): 13, Pre-Training 손실 함수(pretraining_loss): 0.026678\n",
      "반복(Epoch): 14, Pre-Training 손실 함수(pretraining_loss): 0.023894\n",
      "반복(Epoch): 15, Pre-Training 손실 함수(pretraining_loss): 0.026423\n",
      "반복(Epoch): 16, Pre-Training 손실 함수(pretraining_loss): 0.024048\n",
      "반복(Epoch): 17, Pre-Training 손실 함수(pretraining_loss): 0.027211\n",
      "반복(Epoch): 18, Pre-Training 손실 함수(pretraining_loss): 0.021543\n",
      "반복(Epoch): 19, Pre-Training 손실 함수(pretraining_loss): 0.026104\n",
      "반복(Epoch): 20, Pre-Training 손실 함수(pretraining_loss): 0.022003\n",
      "반복(Epoch): 21, Pre-Training 손실 함수(pretraining_loss): 0.023744\n",
      "반복(Epoch): 22, Pre-Training 손실 함수(pretraining_loss): 0.025835\n",
      "반복(Epoch): 23, Pre-Training 손실 함수(pretraining_loss): 0.027883\n",
      "반복(Epoch): 24, Pre-Training 손실 함수(pretraining_loss): 0.021129\n",
      "반복(Epoch): 25, Pre-Training 손실 함수(pretraining_loss): 0.020794\n",
      "반복(Epoch): 26, Pre-Training 손실 함수(pretraining_loss): 0.021960\n",
      "반복(Epoch): 27, Pre-Training 손실 함수(pretraining_loss): 0.024178\n",
      "반복(Epoch): 28, Pre-Training 손실 함수(pretraining_loss): 0.024497\n",
      "반복(Epoch): 29, Pre-Training 손실 함수(pretraining_loss): 0.019561\n",
      "반복(Epoch): 30, Pre-Training 손실 함수(pretraining_loss): 0.023016\n",
      "반복(Epoch): 31, Pre-Training 손실 함수(pretraining_loss): 0.020068\n",
      "반복(Epoch): 32, Pre-Training 손실 함수(pretraining_loss): 0.021795\n",
      "반복(Epoch): 33, Pre-Training 손실 함수(pretraining_loss): 0.021325\n",
      "반복(Epoch): 34, Pre-Training 손실 함수(pretraining_loss): 0.019957\n",
      "반복(Epoch): 35, Pre-Training 손실 함수(pretraining_loss): 0.022432\n",
      "반복(Epoch): 36, Pre-Training 손실 함수(pretraining_loss): 0.019100\n",
      "반복(Epoch): 37, Pre-Training 손실 함수(pretraining_loss): 0.020220\n",
      "반복(Epoch): 38, Pre-Training 손실 함수(pretraining_loss): 0.020842\n",
      "반복(Epoch): 39, Pre-Training 손실 함수(pretraining_loss): 0.017244\n",
      "반복(Epoch): 40, Pre-Training 손실 함수(pretraining_loss): 0.017303\n",
      "반복(Epoch): 41, Pre-Training 손실 함수(pretraining_loss): 0.017680\n",
      "반복(Epoch): 42, Pre-Training 손실 함수(pretraining_loss): 0.019814\n",
      "반복(Epoch): 43, Pre-Training 손실 함수(pretraining_loss): 0.019542\n",
      "반복(Epoch): 44, Pre-Training 손실 함수(pretraining_loss): 0.018089\n",
      "반복(Epoch): 45, Pre-Training 손실 함수(pretraining_loss): 0.019254\n",
      "반복(Epoch): 46, Pre-Training 손실 함수(pretraining_loss): 0.018788\n",
      "반복(Epoch): 47, Pre-Training 손실 함수(pretraining_loss): 0.018625\n",
      "반복(Epoch): 48, Pre-Training 손실 함수(pretraining_loss): 0.016145\n",
      "반복(Epoch): 49, Pre-Training 손실 함수(pretraining_loss): 0.017207\n",
      "반복(Epoch): 50, Pre-Training 손실 함수(pretraining_loss): 0.018383\n",
      "반복(Epoch): 51, Pre-Training 손실 함수(pretraining_loss): 0.015651\n",
      "반복(Epoch): 52, Pre-Training 손실 함수(pretraining_loss): 0.015567\n",
      "반복(Epoch): 53, Pre-Training 손실 함수(pretraining_loss): 0.017286\n",
      "반복(Epoch): 54, Pre-Training 손실 함수(pretraining_loss): 0.013672\n",
      "반복(Epoch): 55, Pre-Training 손실 함수(pretraining_loss): 0.015440\n",
      "반복(Epoch): 56, Pre-Training 손실 함수(pretraining_loss): 0.016335\n",
      "반복(Epoch): 57, Pre-Training 손실 함수(pretraining_loss): 0.015457\n",
      "반복(Epoch): 58, Pre-Training 손실 함수(pretraining_loss): 0.015026\n",
      "반복(Epoch): 59, Pre-Training 손실 함수(pretraining_loss): 0.016575\n",
      "반복(Epoch): 60, Pre-Training 손실 함수(pretraining_loss): 0.014895\n",
      "반복(Epoch): 61, Pre-Training 손실 함수(pretraining_loss): 0.014406\n",
      "반복(Epoch): 62, Pre-Training 손실 함수(pretraining_loss): 0.013911\n",
      "반복(Epoch): 63, Pre-Training 손실 함수(pretraining_loss): 0.015846\n",
      "반복(Epoch): 64, Pre-Training 손실 함수(pretraining_loss): 0.014841\n",
      "반복(Epoch): 65, Pre-Training 손실 함수(pretraining_loss): 0.014886\n",
      "반복(Epoch): 66, Pre-Training 손실 함수(pretraining_loss): 0.013610\n",
      "반복(Epoch): 67, Pre-Training 손실 함수(pretraining_loss): 0.013009\n",
      "반복(Epoch): 68, Pre-Training 손실 함수(pretraining_loss): 0.013688\n",
      "반복(Epoch): 69, Pre-Training 손실 함수(pretraining_loss): 0.014602\n",
      "반복(Epoch): 70, Pre-Training 손실 함수(pretraining_loss): 0.013138\n",
      "반복(Epoch): 71, Pre-Training 손실 함수(pretraining_loss): 0.013024\n",
      "반복(Epoch): 72, Pre-Training 손실 함수(pretraining_loss): 0.013606\n",
      "반복(Epoch): 73, Pre-Training 손실 함수(pretraining_loss): 0.013173\n",
      "반복(Epoch): 74, Pre-Training 손실 함수(pretraining_loss): 0.012263\n",
      "반복(Epoch): 75, Pre-Training 손실 함수(pretraining_loss): 0.012657\n",
      "반복(Epoch): 76, Pre-Training 손실 함수(pretraining_loss): 0.012271\n",
      "반복(Epoch): 77, Pre-Training 손실 함수(pretraining_loss): 0.012985\n",
      "반복(Epoch): 78, Pre-Training 손실 함수(pretraining_loss): 0.012097\n",
      "반복(Epoch): 79, Pre-Training 손실 함수(pretraining_loss): 0.012184\n",
      "반복(Epoch): 80, Pre-Training 손실 함수(pretraining_loss): 0.015356\n",
      "반복(Epoch): 81, Pre-Training 손실 함수(pretraining_loss): 0.013469\n",
      "반복(Epoch): 82, Pre-Training 손실 함수(pretraining_loss): 0.013373\n",
      "반복(Epoch): 83, Pre-Training 손실 함수(pretraining_loss): 0.012569\n",
      "반복(Epoch): 84, Pre-Training 손실 함수(pretraining_loss): 0.013246\n",
      "반복(Epoch): 85, Pre-Training 손실 함수(pretraining_loss): 0.012584\n",
      "반복(Epoch): 86, Pre-Training 손실 함수(pretraining_loss): 0.011007\n",
      "반복(Epoch): 87, Pre-Training 손실 함수(pretraining_loss): 0.014183\n",
      "반복(Epoch): 88, Pre-Training 손실 함수(pretraining_loss): 0.011873\n",
      "반복(Epoch): 89, Pre-Training 손실 함수(pretraining_loss): 0.013770\n",
      "반복(Epoch): 90, Pre-Training 손실 함수(pretraining_loss): 0.012408\n",
      "반복(Epoch): 91, Pre-Training 손실 함수(pretraining_loss): 0.012578\n",
      "반복(Epoch): 92, Pre-Training 손실 함수(pretraining_loss): 0.013792\n",
      "반복(Epoch): 93, Pre-Training 손실 함수(pretraining_loss): 0.013131\n",
      "반복(Epoch): 94, Pre-Training 손실 함수(pretraining_loss): 0.012357\n",
      "반복(Epoch): 95, Pre-Training 손실 함수(pretraining_loss): 0.011843\n",
      "반복(Epoch): 96, Pre-Training 손실 함수(pretraining_loss): 0.011893\n",
      "반복(Epoch): 97, Pre-Training 손실 함수(pretraining_loss): 0.010873\n",
      "반복(Epoch): 98, Pre-Training 손실 함수(pretraining_loss): 0.012733\n",
      "반복(Epoch): 99, Pre-Training 손실 함수(pretraining_loss): 0.011565\n",
      "반복(Epoch): 100, Pre-Training 손실 함수(pretraining_loss): 0.010559\n",
      "Step 1 : MNIST 데이터 재구축을 위한 오토인코더 최적화 완료(Pre-Training)\n"
     ]
    }
   ],
   "source": [
    "for epoch in range(num_epochs):\n",
    "  # 모든 배치들에 대해서 최적화를 수행합니다.\n",
    "  for batch_x, _ in train_data:\n",
    "    _, pretraining_loss_print = pretraining_train_step(AutoEncoder_model, batch_x), pretraining_mse_loss(AutoEncoder_model(batch_x)[0], batch_x)\n",
    "  # 지정된 epoch마다 학습결과를 출력합니다.\n",
    "  if epoch % display_step == 0:\n",
    "    print(\"반복(Epoch): %d, Pre-Training 손실 함수(pretraining_loss): %f\" % ((epoch + 1), pretraining_loss_print))\n",
    "print(\"Step 1 : MNIST 데이터 재구축을 위한 오토인코더 최적화 완료(Pre-Training)\")"
   ]
  },
  {
   "cell_type": "code",
   "execution_count": 57,
   "metadata": {},
   "outputs": [
    {
     "data": {
      "text/plain": [
       "4"
      ]
     },
     "execution_count": 57,
     "metadata": {},
     "output_type": "execute_result"
    }
   ],
   "source": [
    "len(AutoEncoder_model.hidden_layer_2.trainable_variables + AutoEncoder_model.hidden_layer_1.trainable_variables)"
   ]
  },
  {
   "cell_type": "code",
   "execution_count": 58,
   "metadata": {},
   "outputs": [
    {
     "name": "stdout",
     "output_type": "stream",
     "text": [
      "반복(Epoch): 1, Fine-tuning 손실 함수(finetuning_loss): 0.512844\n",
      "반복(Epoch): 2, Fine-tuning 손실 함수(finetuning_loss): 0.321322\n",
      "반복(Epoch): 3, Fine-tuning 손실 함수(finetuning_loss): 0.482537\n",
      "반복(Epoch): 4, Fine-tuning 손실 함수(finetuning_loss): 0.280574\n",
      "반복(Epoch): 5, Fine-tuning 손실 함수(finetuning_loss): 0.145813\n",
      "반복(Epoch): 6, Fine-tuning 손실 함수(finetuning_loss): 0.157173\n",
      "반복(Epoch): 7, Fine-tuning 손실 함수(finetuning_loss): 0.134000\n",
      "반복(Epoch): 8, Fine-tuning 손실 함수(finetuning_loss): 0.255357\n",
      "반복(Epoch): 9, Fine-tuning 손실 함수(finetuning_loss): 0.185198\n",
      "반복(Epoch): 10, Fine-tuning 손실 함수(finetuning_loss): 0.091456\n",
      "반복(Epoch): 11, Fine-tuning 손실 함수(finetuning_loss): 0.076445\n",
      "반복(Epoch): 12, Fine-tuning 손실 함수(finetuning_loss): 0.171736\n",
      "반복(Epoch): 13, Fine-tuning 손실 함수(finetuning_loss): 0.187210\n",
      "반복(Epoch): 14, Fine-tuning 손실 함수(finetuning_loss): 0.162905\n",
      "반복(Epoch): 15, Fine-tuning 손실 함수(finetuning_loss): 0.103447\n",
      "반복(Epoch): 16, Fine-tuning 손실 함수(finetuning_loss): 0.122351\n",
      "반복(Epoch): 17, Fine-tuning 손실 함수(finetuning_loss): 0.105098\n",
      "반복(Epoch): 18, Fine-tuning 손실 함수(finetuning_loss): 0.127990\n",
      "반복(Epoch): 19, Fine-tuning 손실 함수(finetuning_loss): 0.081753\n",
      "반복(Epoch): 20, Fine-tuning 손실 함수(finetuning_loss): 0.107519\n",
      "반복(Epoch): 21, Fine-tuning 손실 함수(finetuning_loss): 0.098184\n",
      "반복(Epoch): 22, Fine-tuning 손실 함수(finetuning_loss): 0.072302\n",
      "반복(Epoch): 23, Fine-tuning 손실 함수(finetuning_loss): 0.092359\n",
      "반복(Epoch): 24, Fine-tuning 손실 함수(finetuning_loss): 0.140127\n",
      "반복(Epoch): 25, Fine-tuning 손실 함수(finetuning_loss): 0.046942\n",
      "반복(Epoch): 26, Fine-tuning 손실 함수(finetuning_loss): 0.097822\n",
      "반복(Epoch): 27, Fine-tuning 손실 함수(finetuning_loss): 0.050013\n",
      "반복(Epoch): 28, Fine-tuning 손실 함수(finetuning_loss): 0.127953\n",
      "반복(Epoch): 29, Fine-tuning 손실 함수(finetuning_loss): 0.082898\n",
      "반복(Epoch): 30, Fine-tuning 손실 함수(finetuning_loss): 0.125803\n",
      "반복(Epoch): 31, Fine-tuning 손실 함수(finetuning_loss): 0.092458\n",
      "반복(Epoch): 32, Fine-tuning 손실 함수(finetuning_loss): 0.101884\n",
      "반복(Epoch): 33, Fine-tuning 손실 함수(finetuning_loss): 0.057674\n",
      "반복(Epoch): 34, Fine-tuning 손실 함수(finetuning_loss): 0.061733\n",
      "반복(Epoch): 35, Fine-tuning 손실 함수(finetuning_loss): 0.091619\n",
      "반복(Epoch): 36, Fine-tuning 손실 함수(finetuning_loss): 0.122399\n",
      "반복(Epoch): 37, Fine-tuning 손실 함수(finetuning_loss): 0.076362\n",
      "반복(Epoch): 38, Fine-tuning 손실 함수(finetuning_loss): 0.064652\n",
      "반복(Epoch): 39, Fine-tuning 손실 함수(finetuning_loss): 0.154766\n",
      "반복(Epoch): 40, Fine-tuning 손실 함수(finetuning_loss): 0.043375\n",
      "반복(Epoch): 41, Fine-tuning 손실 함수(finetuning_loss): 0.058097\n",
      "반복(Epoch): 42, Fine-tuning 손실 함수(finetuning_loss): 0.040782\n",
      "반복(Epoch): 43, Fine-tuning 손실 함수(finetuning_loss): 0.077035\n",
      "반복(Epoch): 44, Fine-tuning 손실 함수(finetuning_loss): 0.087566\n",
      "반복(Epoch): 45, Fine-tuning 손실 함수(finetuning_loss): 0.087569\n",
      "반복(Epoch): 46, Fine-tuning 손실 함수(finetuning_loss): 0.037135\n",
      "반복(Epoch): 47, Fine-tuning 손실 함수(finetuning_loss): 0.059242\n",
      "반복(Epoch): 48, Fine-tuning 손실 함수(finetuning_loss): 0.017095\n",
      "반복(Epoch): 49, Fine-tuning 손실 함수(finetuning_loss): 0.074815\n",
      "반복(Epoch): 50, Fine-tuning 손실 함수(finetuning_loss): 0.053984\n",
      "반복(Epoch): 51, Fine-tuning 손실 함수(finetuning_loss): 0.038848\n",
      "반복(Epoch): 52, Fine-tuning 손실 함수(finetuning_loss): 0.052849\n",
      "반복(Epoch): 53, Fine-tuning 손실 함수(finetuning_loss): 0.116273\n",
      "반복(Epoch): 54, Fine-tuning 손실 함수(finetuning_loss): 0.033210\n",
      "반복(Epoch): 55, Fine-tuning 손실 함수(finetuning_loss): 0.085841\n",
      "반복(Epoch): 56, Fine-tuning 손실 함수(finetuning_loss): 0.033328\n",
      "반복(Epoch): 57, Fine-tuning 손실 함수(finetuning_loss): 0.055445\n",
      "반복(Epoch): 58, Fine-tuning 손실 함수(finetuning_loss): 0.060843\n",
      "반복(Epoch): 59, Fine-tuning 손실 함수(finetuning_loss): 0.039347\n",
      "반복(Epoch): 60, Fine-tuning 손실 함수(finetuning_loss): 0.045614\n",
      "반복(Epoch): 61, Fine-tuning 손실 함수(finetuning_loss): 0.049509\n",
      "반복(Epoch): 62, Fine-tuning 손실 함수(finetuning_loss): 0.029300\n",
      "반복(Epoch): 63, Fine-tuning 손실 함수(finetuning_loss): 0.029019\n",
      "반복(Epoch): 64, Fine-tuning 손실 함수(finetuning_loss): 0.087548\n",
      "반복(Epoch): 65, Fine-tuning 손실 함수(finetuning_loss): 0.071234\n",
      "반복(Epoch): 66, Fine-tuning 손실 함수(finetuning_loss): 0.065140\n",
      "반복(Epoch): 67, Fine-tuning 손실 함수(finetuning_loss): 0.033711\n",
      "반복(Epoch): 68, Fine-tuning 손실 함수(finetuning_loss): 0.043097\n",
      "반복(Epoch): 69, Fine-tuning 손실 함수(finetuning_loss): 0.070941\n",
      "반복(Epoch): 70, Fine-tuning 손실 함수(finetuning_loss): 0.060857\n",
      "반복(Epoch): 71, Fine-tuning 손실 함수(finetuning_loss): 0.099415\n",
      "반복(Epoch): 72, Fine-tuning 손실 함수(finetuning_loss): 0.100850\n",
      "반복(Epoch): 73, Fine-tuning 손실 함수(finetuning_loss): 0.051344\n",
      "반복(Epoch): 74, Fine-tuning 손실 함수(finetuning_loss): 0.046394\n",
      "반복(Epoch): 75, Fine-tuning 손실 함수(finetuning_loss): 0.027631\n",
      "반복(Epoch): 76, Fine-tuning 손실 함수(finetuning_loss): 0.105387\n",
      "반복(Epoch): 77, Fine-tuning 손실 함수(finetuning_loss): 0.094474\n",
      "반복(Epoch): 78, Fine-tuning 손실 함수(finetuning_loss): 0.008907\n",
      "반복(Epoch): 79, Fine-tuning 손실 함수(finetuning_loss): 0.067557\n",
      "반복(Epoch): 80, Fine-tuning 손실 함수(finetuning_loss): 0.058242\n",
      "반복(Epoch): 81, Fine-tuning 손실 함수(finetuning_loss): 0.033032\n",
      "반복(Epoch): 82, Fine-tuning 손실 함수(finetuning_loss): 0.030971\n",
      "반복(Epoch): 83, Fine-tuning 손실 함수(finetuning_loss): 0.036832\n",
      "반복(Epoch): 84, Fine-tuning 손실 함수(finetuning_loss): 0.034318\n",
      "반복(Epoch): 85, Fine-tuning 손실 함수(finetuning_loss): 0.057076\n",
      "반복(Epoch): 86, Fine-tuning 손실 함수(finetuning_loss): 0.023450\n",
      "반복(Epoch): 87, Fine-tuning 손실 함수(finetuning_loss): 0.067077\n",
      "반복(Epoch): 88, Fine-tuning 손실 함수(finetuning_loss): 0.053592\n",
      "반복(Epoch): 89, Fine-tuning 손실 함수(finetuning_loss): 0.047123\n",
      "반복(Epoch): 90, Fine-tuning 손실 함수(finetuning_loss): 0.032520\n",
      "반복(Epoch): 91, Fine-tuning 손실 함수(finetuning_loss): 0.032293\n",
      "반복(Epoch): 92, Fine-tuning 손실 함수(finetuning_loss): 0.071517\n",
      "반복(Epoch): 93, Fine-tuning 손실 함수(finetuning_loss): 0.052814\n",
      "반복(Epoch): 94, Fine-tuning 손실 함수(finetuning_loss): 0.020473\n",
      "반복(Epoch): 95, Fine-tuning 손실 함수(finetuning_loss): 0.046655\n",
      "반복(Epoch): 96, Fine-tuning 손실 함수(finetuning_loss): 0.016354\n",
      "반복(Epoch): 97, Fine-tuning 손실 함수(finetuning_loss): 0.017399\n",
      "반복(Epoch): 98, Fine-tuning 손실 함수(finetuning_loss): 0.024585\n",
      "반복(Epoch): 99, Fine-tuning 손실 함수(finetuning_loss): 0.024812\n",
      "반복(Epoch): 100, Fine-tuning 손실 함수(finetuning_loss): 0.057670\n",
      "반복(Epoch): 101, Fine-tuning 손실 함수(finetuning_loss): 0.043159\n",
      "반복(Epoch): 102, Fine-tuning 손실 함수(finetuning_loss): 0.044742\n",
      "반복(Epoch): 103, Fine-tuning 손실 함수(finetuning_loss): 0.038084\n",
      "반복(Epoch): 104, Fine-tuning 손실 함수(finetuning_loss): 0.037086\n",
      "반복(Epoch): 105, Fine-tuning 손실 함수(finetuning_loss): 0.057518\n",
      "반복(Epoch): 106, Fine-tuning 손실 함수(finetuning_loss): 0.015445\n",
      "반복(Epoch): 107, Fine-tuning 손실 함수(finetuning_loss): 0.074668\n",
      "반복(Epoch): 108, Fine-tuning 손실 함수(finetuning_loss): 0.043907\n",
      "반복(Epoch): 109, Fine-tuning 손실 함수(finetuning_loss): 0.085168\n",
      "반복(Epoch): 110, Fine-tuning 손실 함수(finetuning_loss): 0.037907\n",
      "반복(Epoch): 111, Fine-tuning 손실 함수(finetuning_loss): 0.011808\n",
      "반복(Epoch): 112, Fine-tuning 손실 함수(finetuning_loss): 0.038106\n",
      "반복(Epoch): 113, Fine-tuning 손실 함수(finetuning_loss): 0.024673\n",
      "반복(Epoch): 114, Fine-tuning 손실 함수(finetuning_loss): 0.017070\n",
      "반복(Epoch): 115, Fine-tuning 손실 함수(finetuning_loss): 0.026015\n",
      "반복(Epoch): 116, Fine-tuning 손실 함수(finetuning_loss): 0.030096\n",
      "반복(Epoch): 117, Fine-tuning 손실 함수(finetuning_loss): 0.033861\n",
      "반복(Epoch): 118, Fine-tuning 손실 함수(finetuning_loss): 0.025378\n",
      "반복(Epoch): 119, Fine-tuning 손실 함수(finetuning_loss): 0.009911\n",
      "반복(Epoch): 120, Fine-tuning 손실 함수(finetuning_loss): 0.026082\n",
      "반복(Epoch): 121, Fine-tuning 손실 함수(finetuning_loss): 0.028807\n",
      "반복(Epoch): 122, Fine-tuning 손실 함수(finetuning_loss): 0.019682\n",
      "반복(Epoch): 123, Fine-tuning 손실 함수(finetuning_loss): 0.055168\n",
      "반복(Epoch): 124, Fine-tuning 손실 함수(finetuning_loss): 0.035088\n",
      "반복(Epoch): 125, Fine-tuning 손실 함수(finetuning_loss): 0.010722\n",
      "반복(Epoch): 126, Fine-tuning 손실 함수(finetuning_loss): 0.018631\n",
      "반복(Epoch): 127, Fine-tuning 손실 함수(finetuning_loss): 0.011244\n",
      "반복(Epoch): 128, Fine-tuning 손실 함수(finetuning_loss): 0.026435\n",
      "반복(Epoch): 129, Fine-tuning 손실 함수(finetuning_loss): 0.037734\n",
      "반복(Epoch): 130, Fine-tuning 손실 함수(finetuning_loss): 0.040014\n",
      "반복(Epoch): 131, Fine-tuning 손실 함수(finetuning_loss): 0.019382\n",
      "반복(Epoch): 132, Fine-tuning 손실 함수(finetuning_loss): 0.034780\n",
      "반복(Epoch): 133, Fine-tuning 손실 함수(finetuning_loss): 0.015519\n",
      "반복(Epoch): 134, Fine-tuning 손실 함수(finetuning_loss): 0.033738\n",
      "반복(Epoch): 135, Fine-tuning 손실 함수(finetuning_loss): 0.047057\n",
      "반복(Epoch): 136, Fine-tuning 손실 함수(finetuning_loss): 0.019227\n",
      "반복(Epoch): 137, Fine-tuning 손실 함수(finetuning_loss): 0.028724\n"
     ]
    },
    {
     "name": "stdout",
     "output_type": "stream",
     "text": [
      "반복(Epoch): 138, Fine-tuning 손실 함수(finetuning_loss): 0.012012\n",
      "반복(Epoch): 139, Fine-tuning 손실 함수(finetuning_loss): 0.007042\n",
      "반복(Epoch): 140, Fine-tuning 손실 함수(finetuning_loss): 0.023430\n",
      "반복(Epoch): 141, Fine-tuning 손실 함수(finetuning_loss): 0.022693\n",
      "반복(Epoch): 142, Fine-tuning 손실 함수(finetuning_loss): 0.010108\n",
      "반복(Epoch): 143, Fine-tuning 손실 함수(finetuning_loss): 0.011053\n",
      "반복(Epoch): 144, Fine-tuning 손실 함수(finetuning_loss): 0.064638\n",
      "반복(Epoch): 145, Fine-tuning 손실 함수(finetuning_loss): 0.024859\n",
      "반복(Epoch): 146, Fine-tuning 손실 함수(finetuning_loss): 0.016001\n",
      "반복(Epoch): 147, Fine-tuning 손실 함수(finetuning_loss): 0.013062\n",
      "반복(Epoch): 148, Fine-tuning 손실 함수(finetuning_loss): 0.009952\n",
      "반복(Epoch): 149, Fine-tuning 손실 함수(finetuning_loss): 0.013058\n",
      "반복(Epoch): 150, Fine-tuning 손실 함수(finetuning_loss): 0.012180\n",
      "반복(Epoch): 151, Fine-tuning 손실 함수(finetuning_loss): 0.031376\n",
      "반복(Epoch): 152, Fine-tuning 손실 함수(finetuning_loss): 0.016952\n",
      "반복(Epoch): 153, Fine-tuning 손실 함수(finetuning_loss): 0.013530\n",
      "반복(Epoch): 154, Fine-tuning 손실 함수(finetuning_loss): 0.012372\n",
      "반복(Epoch): 155, Fine-tuning 손실 함수(finetuning_loss): 0.014956\n",
      "반복(Epoch): 156, Fine-tuning 손실 함수(finetuning_loss): 0.017432\n",
      "반복(Epoch): 157, Fine-tuning 손실 함수(finetuning_loss): 0.016539\n",
      "반복(Epoch): 158, Fine-tuning 손실 함수(finetuning_loss): 0.045707\n",
      "반복(Epoch): 159, Fine-tuning 손실 함수(finetuning_loss): 0.011343\n",
      "반복(Epoch): 160, Fine-tuning 손실 함수(finetuning_loss): 0.046512\n",
      "반복(Epoch): 161, Fine-tuning 손실 함수(finetuning_loss): 0.022042\n",
      "반복(Epoch): 162, Fine-tuning 손실 함수(finetuning_loss): 0.022153\n",
      "반복(Epoch): 163, Fine-tuning 손실 함수(finetuning_loss): 0.011581\n",
      "반복(Epoch): 164, Fine-tuning 손실 함수(finetuning_loss): 0.014024\n",
      "반복(Epoch): 165, Fine-tuning 손실 함수(finetuning_loss): 0.013323\n",
      "반복(Epoch): 166, Fine-tuning 손실 함수(finetuning_loss): 0.040941\n",
      "반복(Epoch): 167, Fine-tuning 손실 함수(finetuning_loss): 0.025298\n",
      "반복(Epoch): 168, Fine-tuning 손실 함수(finetuning_loss): 0.012362\n",
      "반복(Epoch): 169, Fine-tuning 손실 함수(finetuning_loss): 0.021162\n",
      "반복(Epoch): 170, Fine-tuning 손실 함수(finetuning_loss): 0.024101\n",
      "반복(Epoch): 171, Fine-tuning 손실 함수(finetuning_loss): 0.019376\n",
      "반복(Epoch): 172, Fine-tuning 손실 함수(finetuning_loss): 0.008361\n",
      "반복(Epoch): 173, Fine-tuning 손실 함수(finetuning_loss): 0.008114\n",
      "반복(Epoch): 174, Fine-tuning 손실 함수(finetuning_loss): 0.013671\n",
      "반복(Epoch): 175, Fine-tuning 손실 함수(finetuning_loss): 0.014986\n",
      "반복(Epoch): 176, Fine-tuning 손실 함수(finetuning_loss): 0.008546\n",
      "반복(Epoch): 177, Fine-tuning 손실 함수(finetuning_loss): 0.004632\n",
      "반복(Epoch): 178, Fine-tuning 손실 함수(finetuning_loss): 0.015382\n",
      "반복(Epoch): 179, Fine-tuning 손실 함수(finetuning_loss): 0.012445\n",
      "반복(Epoch): 180, Fine-tuning 손실 함수(finetuning_loss): 0.018919\n",
      "반복(Epoch): 181, Fine-tuning 손실 함수(finetuning_loss): 0.013970\n",
      "반복(Epoch): 182, Fine-tuning 손실 함수(finetuning_loss): 0.009308\n",
      "반복(Epoch): 183, Fine-tuning 손실 함수(finetuning_loss): 0.009566\n",
      "반복(Epoch): 184, Fine-tuning 손실 함수(finetuning_loss): 0.012786\n",
      "반복(Epoch): 185, Fine-tuning 손실 함수(finetuning_loss): 0.013059\n",
      "반복(Epoch): 186, Fine-tuning 손실 함수(finetuning_loss): 0.009522\n",
      "반복(Epoch): 187, Fine-tuning 손실 함수(finetuning_loss): 0.008923\n",
      "반복(Epoch): 188, Fine-tuning 손실 함수(finetuning_loss): 0.014387\n",
      "반복(Epoch): 189, Fine-tuning 손실 함수(finetuning_loss): 0.021656\n",
      "반복(Epoch): 190, Fine-tuning 손실 함수(finetuning_loss): 0.012647\n",
      "반복(Epoch): 191, Fine-tuning 손실 함수(finetuning_loss): 0.019588\n",
      "반복(Epoch): 192, Fine-tuning 손실 함수(finetuning_loss): 0.017294\n",
      "반복(Epoch): 193, Fine-tuning 손실 함수(finetuning_loss): 0.013726\n",
      "반복(Epoch): 194, Fine-tuning 손실 함수(finetuning_loss): 0.016984\n",
      "반복(Epoch): 195, Fine-tuning 손실 함수(finetuning_loss): 0.010122\n",
      "반복(Epoch): 196, Fine-tuning 손실 함수(finetuning_loss): 0.005193\n",
      "반복(Epoch): 197, Fine-tuning 손실 함수(finetuning_loss): 0.011598\n",
      "반복(Epoch): 198, Fine-tuning 손실 함수(finetuning_loss): 0.017887\n",
      "반복(Epoch): 199, Fine-tuning 손실 함수(finetuning_loss): 0.016555\n",
      "반복(Epoch): 200, Fine-tuning 손실 함수(finetuning_loss): 0.008542\n",
      "Step 2 : MNIST 데이터 분류를 위한 오토인코더+Softmax 분류기 최적화 완료(Fine-Tuning)\n",
      "정확도(오토인코더+Softmax 분류기): 0.963100\n"
     ]
    }
   ],
   "source": [
    "for epoch in range(num_epochs + 100):\n",
    "  # 모든 배치들에 대해서 최적화를 수행합니다.\n",
    "  for batch_x, batch_y in train_data:\n",
    "    batch_y = tf.one_hot(batch_y, depth=10)\n",
    "    _, finetuning_loss_print = finetuning_train_step(AutoEncoder_model, SoftmaxClassifier_model, batch_x, batch_y), finetuning_cross_entropy_loss(SoftmaxClassifier_model(AutoEncoder_model(batch_x)[1]), batch_y)\n",
    "  # 지정된 epoch마다 학습결과를 출력합니다.\n",
    "  if epoch % display_step == 0:\n",
    "    print(\"반복(Epoch): %d, Fine-tuning 손실 함수(finetuning_loss): %f\" % ((epoch + 1), finetuning_loss_print))\n",
    "print(\"Step 2 : MNIST 데이터 분류를 위한 오토인코더+Softmax 분류기 최적화 완료(Fine-Tuning)\")\n",
    "\n",
    "# 오토인코더+Softmax 분류기 모델의 정확도를 출력합니다.\n",
    "print(\"정확도(오토인코더+Softmax 분류기): %f\" % compute_accuracy(SoftmaxClassifier_model(AutoEncoder_model(x_test)[1]), tf.one_hot(y_test, depth=10)))  # 정확도 : 약 96%\n"
   ]
  }
 ],
 "metadata": {
  "kernelspec": {
   "display_name": "Python 3",
   "language": "python",
   "name": "python3"
  },
  "language_info": {
   "codemirror_mode": {
    "name": "ipython",
    "version": 3
   },
   "file_extension": ".py",
   "mimetype": "text/x-python",
   "name": "python",
   "nbconvert_exporter": "python",
   "pygments_lexer": "ipython3",
   "version": "3.6.9"
  }
 },
 "nbformat": 4,
 "nbformat_minor": 4
}
