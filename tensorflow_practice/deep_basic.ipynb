{
 "cells": [
  {
   "cell_type": "code",
   "execution_count": 6,
   "metadata": {},
   "outputs": [],
   "source": [
    "import tensorflow.compat.v1 as tf\n",
    "tf.disable_v2_behavior()\n",
    "import numpy as np\n"
   ]
  },
  {
   "cell_type": "code",
   "execution_count": 4,
   "metadata": {},
   "outputs": [],
   "source": [
    "(X_train, y_train), (X_test, y_test) = tf.keras.datasets.mnist.load_data()\n",
    "X_train = X_train.astype(np.float32).reshape(-1, 28*28) / 255.0\n",
    "X_test = X_test.astype(np.float32).reshape(-1, 28*28) / 255.0\n",
    "y_train = y_train.astype(np.int32)\n",
    "y_test = y_test.astype(np.int32)\n",
    "X_valid, X_train = X_train[:5000], X_train[5000:]\n",
    "y_valid, y_train = y_train[:5000], y_train[5000:]"
   ]
  },
  {
   "cell_type": "code",
   "execution_count": 8,
   "metadata": {},
   "outputs": [],
   "source": [
    "n_inputs = 28*28  # MNIST\n",
    "n_hidden1 = 300\n",
    "n_hidden2 = 100\n",
    "n_outputs = 10"
   ]
  },
  {
   "cell_type": "code",
   "execution_count": 10,
   "metadata": {},
   "outputs": [],
   "source": [
    "X = tf.placeholder(tf.float32, shape=(None, n_inputs), name=\"X\")\n",
    "y = tf.placeholder(tf.int32, shape=(None), name=\"y\")"
   ]
  },
  {
   "cell_type": "code",
   "execution_count": 17,
   "metadata": {},
   "outputs": [],
   "source": [
    "def neuron_layer(X, n_neurons, name, activation=None):\n",
    "    with tf.name_scope(name):\n",
    "        n_inputs = int(X.get_shape()[1])\n",
    "        stddev = 2 / np.sqrt(n_inputs)\n",
    "        init = tf.truncated_normal((n_inputs, n_neurons), stddev=stddev)\n",
    "        W = tf.Variable(init, name=\"kernel\")\n",
    "        b = tf.Variable(tf.zeros([n_neurons]), name=\"bias\")\n",
    "        Z = tf.matmul(X, W) + b\n",
    "        if activation is not None:\n",
    "            return activation(Z)\n",
    "        else:\n",
    "            return Z"
   ]
  },
  {
   "cell_type": "code",
   "execution_count": 18,
   "metadata": {},
   "outputs": [],
   "source": [
    "with tf.name_scope(\"dnn\"):\n",
    "    hidden1 = neuron_layer(X, n_hidden1, name=\"hidden1\",\n",
    "                           activation=tf.nn.relu)\n",
    "    hidden2 = neuron_layer(hidden1, n_hidden2, name=\"hidden2\",\n",
    "                           activation=tf.nn.relu)\n",
    "    logits = neuron_layer(hidden2, n_outputs, name=\"outputs\")"
   ]
  },
  {
   "cell_type": "code",
   "execution_count": 19,
   "metadata": {},
   "outputs": [],
   "source": [
    "with tf.name_scope(\"loss\"):\n",
    "    xentropy = tf.nn.sparse_softmax_cross_entropy_with_logits(labels=y,\n",
    "                                                              logits=logits)\n",
    "    loss = tf.reduce_mean(xentropy, name=\"loss\")"
   ]
  },
  {
   "cell_type": "code",
   "execution_count": 20,
   "metadata": {},
   "outputs": [],
   "source": [
    "learning_rate = 0.01\n",
    "\n",
    "with tf.name_scope(\"train\"):\n",
    "    optimizer = tf.train.GradientDescentOptimizer(learning_rate)\n",
    "    training_op = optimizer.minimize(loss)"
   ]
  },
  {
   "cell_type": "code",
   "execution_count": 21,
   "metadata": {},
   "outputs": [],
   "source": [
    "with tf.name_scope(\"eval\"):\n",
    "    correct = tf.nn.in_top_k(logits, y, 1)\n",
    "    accuracy = tf.reduce_mean(tf.cast(correct, tf.float32))"
   ]
  },
  {
   "cell_type": "code",
   "execution_count": 22,
   "metadata": {},
   "outputs": [],
   "source": [
    "init = tf.global_variables_initializer()\n",
    "saver = tf.train.Saver()"
   ]
  },
  {
   "cell_type": "code",
   "execution_count": 23,
   "metadata": {},
   "outputs": [],
   "source": [
    "n_epochs = 40\n",
    "batch_size = 50"
   ]
  },
  {
   "cell_type": "code",
   "execution_count": 26,
   "metadata": {},
   "outputs": [
    {
     "name": "stdout",
     "output_type": "stream",
     "text": [
      "0 배치 데이터 정확도: 0.96 검증 세트 정확도: 0.9126\n",
      "1 배치 데이터 정확도: 0.88 검증 세트 정확도: 0.9314\n",
      "2 배치 데이터 정확도: 0.88 검증 세트 정확도: 0.9384\n",
      "3 배치 데이터 정확도: 0.94 검증 세트 정확도: 0.9476\n",
      "4 배치 데이터 정확도: 0.96 검증 세트 정확도: 0.9526\n",
      "5 배치 데이터 정확도: 0.98 검증 세트 정확도: 0.9538\n",
      "6 배치 데이터 정확도: 0.96 검증 세트 정확도: 0.9574\n",
      "7 배치 데이터 정확도: 1.0 검증 세트 정확도: 0.9608\n",
      "8 배치 데이터 정확도: 0.98 검증 세트 정확도: 0.9632\n",
      "9 배치 데이터 정확도: 0.96 검증 세트 정확도: 0.966\n",
      "10 배치 데이터 정확도: 0.98 검증 세트 정확도: 0.9668\n",
      "11 배치 데이터 정확도: 0.98 검증 세트 정확도: 0.9668\n",
      "12 배치 데이터 정확도: 0.96 검증 세트 정확도: 0.9704\n",
      "13 배치 데이터 정확도: 1.0 검증 세트 정확도: 0.9704\n",
      "14 배치 데이터 정확도: 1.0 검증 세트 정확도: 0.97\n",
      "15 배치 데이터 정확도: 0.98 검증 세트 정확도: 0.9712\n",
      "16 배치 데이터 정확도: 1.0 검증 세트 정확도: 0.9718\n",
      "17 배치 데이터 정확도: 1.0 검증 세트 정확도: 0.9722\n",
      "18 배치 데이터 정확도: 1.0 검증 세트 정확도: 0.9736\n",
      "19 배치 데이터 정확도: 1.0 검증 세트 정확도: 0.9738\n",
      "20 배치 데이터 정확도: 1.0 검증 세트 정확도: 0.9738\n",
      "21 배치 데이터 정확도: 1.0 검증 세트 정확도: 0.9734\n",
      "22 배치 데이터 정확도: 1.0 검증 세트 정확도: 0.9746\n",
      "23 배치 데이터 정확도: 1.0 검증 세트 정확도: 0.9746\n",
      "24 배치 데이터 정확도: 0.98 검증 세트 정확도: 0.9752\n",
      "25 배치 데이터 정확도: 0.96 검증 세트 정확도: 0.9758\n",
      "26 배치 데이터 정확도: 1.0 검증 세트 정확도: 0.9764\n",
      "27 배치 데이터 정확도: 1.0 검증 세트 정확도: 0.9762\n",
      "28 배치 데이터 정확도: 1.0 검증 세트 정확도: 0.9756\n",
      "29 배치 데이터 정확도: 0.98 검증 세트 정확도: 0.9754\n",
      "30 배치 데이터 정확도: 1.0 검증 세트 정확도: 0.976\n",
      "31 배치 데이터 정확도: 1.0 검증 세트 정확도: 0.977\n",
      "32 배치 데이터 정확도: 1.0 검증 세트 정확도: 0.9768\n",
      "33 배치 데이터 정확도: 1.0 검증 세트 정확도: 0.9756\n",
      "34 배치 데이터 정확도: 1.0 검증 세트 정확도: 0.977\n",
      "35 배치 데이터 정확도: 1.0 검증 세트 정확도: 0.9766\n",
      "36 배치 데이터 정확도: 1.0 검증 세트 정확도: 0.9778\n",
      "37 배치 데이터 정확도: 1.0 검증 세트 정확도: 0.9786\n",
      "38 배치 데이터 정확도: 0.98 검증 세트 정확도: 0.9774\n",
      "39 배치 데이터 정확도: 1.0 검증 세트 정확도: 0.9784\n"
     ]
    }
   ],
   "source": [
    "def shuffle_batch(X, y, batch_size):\n",
    "    rnd_idx = np.random.permutation(len(X))\n",
    "    n_batches = len(X) // batch_size\n",
    "    for batch_idx in np.array_split(rnd_idx, n_batches):\n",
    "        X_batch, y_batch = X[batch_idx], y[batch_idx]\n",
    "        yield X_batch, y_batch\n",
    "\n",
    "with tf.Session() as sess:\n",
    "    init.run()\n",
    "    for epoch in range(n_epochs):\n",
    "        for X_batch, y_batch in shuffle_batch(X_train, y_train, batch_size):\n",
    "            #print(X_batch, y_batch)\n",
    "            sess.run(training_op, feed_dict={X: X_batch, y: y_batch})\n",
    "        acc_batch = accuracy.eval(feed_dict={X: X_batch, y: y_batch})\n",
    "        acc_valid = accuracy.eval(feed_dict={X: X_valid, y: y_valid})\n",
    "        print(epoch, \"배치 데이터 정확도:\", acc_batch, \"검증 세트 정확도:\", acc_valid)\n",
    "\n",
    "    save_path = saver.save(sess, \"./my_model_final.ckpt\")"
   ]
  },
  {
   "cell_type": "code",
   "execution_count": 29,
   "metadata": {},
   "outputs": [
    {
     "name": "stdout",
     "output_type": "stream",
     "text": [
      "INFO:tensorflow:Restoring parameters from ./tf_logs/my_model_final.ckpt\n"
     ]
    }
   ],
   "source": [
    "with tf.Session() as sess:\n",
    "    saver.restore(sess, \"./tf_logs/my_model_final.ckpt\") # 또는 save_path를 사용합니다\n",
    "    X_new_scaled = X_test[:20]\n",
    "    Z = logits.eval(feed_dict={X: X_new_scaled})\n",
    "    y_pred = np.argmax(Z, axis=1)"
   ]
  },
  {
   "cell_type": "code",
   "execution_count": 30,
   "metadata": {},
   "outputs": [
    {
     "name": "stdout",
     "output_type": "stream",
     "text": [
      "[[  0.06123117  -1.8012471    2.5454156    5.380114    -7.7588005\n",
      "   -2.1042051  -13.064613    12.176681     0.11012305   1.618759  ]\n",
      " [  1.8441111    6.4690247   15.515171     3.6814928  -13.453046\n",
      "    0.18186876   2.2442968  -14.809424     5.325477    -7.890806  ]\n",
      " [ -2.9269419    7.9300265   -0.476503    -2.1148179   -0.8158995\n",
      "   -2.9106917   -1.7935932    0.9689238    1.1893932   -3.6501212 ]\n",
      " [ 13.68168     -2.225509     0.94028354  -3.5900285   -6.530461\n",
      "   -2.2677307    1.5273005    0.9396599   -5.8294725    1.0232549 ]\n",
      " [ -0.950849    -6.3635397   -1.1536951   -3.1187148    9.486958\n",
      "   -3.439334     0.48145694   1.984897    -1.1205695    3.5268595 ]\n",
      " [ -2.9552372   11.175559    -1.1968873   -3.2818384   -0.72526705\n",
      "   -5.876082    -4.5625734    4.114962     0.17562361  -2.4381607 ]\n",
      " [ -4.21871     -2.621788    -1.6074116   -4.369654     9.335869\n",
      "   -0.56922895  -2.30011      1.771221     3.7617486    1.6149575 ]\n",
      " [ -8.071021    -0.59627193   0.83799714   4.52211      1.2242831\n",
      "   -2.5206614   -7.580289     1.8786618   -2.7264721    8.394515  ]\n",
      " [ -2.580451    -4.624622     3.2219403   -4.657439    -1.4579968\n",
      "    6.720924     6.1963887   -7.5669622    0.7648629   -1.393122  ]\n",
      " [ -3.585463    -6.422633    -5.335152     0.74845517   5.737084\n",
      "   -6.155677    -9.881487     5.83727      2.1220322   13.685591  ]\n",
      " [ 14.446361    -2.0438895    3.052823    -3.1489625  -13.011496\n",
      "   -0.73120093   0.72902983  -0.08536014  -5.040387     3.6846328 ]\n",
      " [  2.929128    -1.7675029    0.28504303  -1.1905046   -1.6667194\n",
      "   -1.6711464   12.260116    -4.0633874    3.703647    -5.1192646 ]\n",
      " [ -3.6008701   -4.6323004   -2.5677743    0.17911515   3.327797\n",
      "   -1.4138306   -8.008519     1.4924916    0.23482653  11.960509  ]\n",
      " [ 13.428536    -7.642787    -0.5445357   -4.0746555   -6.954575\n",
      "   -0.562381     1.0068055    2.6204143   -2.0855396    3.3963864 ]\n",
      " [ -7.8562646   11.984903    -0.13578852   3.3901203   -2.1441991\n",
      "   -6.9130983   -4.9532866    0.30313304   1.5979342   -1.8671484 ]\n",
      " [ -4.6491175   -0.05126264  -0.7186256    7.1027665   -4.3467355\n",
      "   11.50414     -5.169461    -4.271775     1.8852671   -2.1000571 ]\n",
      " [ -1.0125576   -7.986429    -1.1936134   -0.8401029    3.3278048\n",
      "   -4.831231    -5.4440417    2.6411982    0.5699668   11.566106  ]\n",
      " [  2.4546785   -3.1460066    5.3316026    5.3808756   -9.587848\n",
      "   -3.9901772  -14.170012    14.124273    -2.9068866    3.680421  ]\n",
      " [ -4.251845    -1.4454459    4.516658     9.837216     0.29750845\n",
      "   -1.0366596   -2.8211439   -5.5870543    4.5053244   -3.2434328 ]\n",
      " [ -3.67096     -2.9604354   -0.3667373   -3.0116706   10.991723\n",
      "   -1.6510843   -0.6227158    1.7384666   -0.7826045    0.6512232 ]]\n"
     ]
    }
   ],
   "source": [
    "print(Z)"
   ]
  },
  {
   "cell_type": "code",
   "execution_count": 31,
   "metadata": {},
   "outputs": [
    {
     "name": "stdout",
     "output_type": "stream",
     "text": [
      "예측 클래스: [7 2 1 0 4 1 4 9 5 9 0 6 9 0 1 5 9 7 3 4]\n",
      "진짜 클래스: [7 2 1 0 4 1 4 9 5 9 0 6 9 0 1 5 9 7 3 4]\n"
     ]
    }
   ],
   "source": [
    "print(\"예측 클래스:\", y_pred)\n",
    "print(\"진짜 클래스:\", y_test[:20])"
   ]
  },
  {
   "cell_type": "code",
   "execution_count": null,
   "metadata": {},
   "outputs": [],
   "source": []
  }
 ],
 "metadata": {
  "kernelspec": {
   "display_name": "Python 3",
   "language": "python",
   "name": "python3"
  },
  "language_info": {
   "codemirror_mode": {
    "name": "ipython",
    "version": 3
   },
   "file_extension": ".py",
   "mimetype": "text/x-python",
   "name": "python",
   "nbconvert_exporter": "python",
   "pygments_lexer": "ipython3",
   "version": "3.6.9"
  }
 },
 "nbformat": 4,
 "nbformat_minor": 4
}
